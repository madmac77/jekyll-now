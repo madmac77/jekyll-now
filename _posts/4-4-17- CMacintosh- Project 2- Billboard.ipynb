{
 "cells": [
  {
   "cell_type": "markdown",
   "metadata": {},
   "source": [
    "PROJECT 2: BILLBOARD DATA ANALYSIS\n",
    "Charles Macintosh\n",
    "4/4/17\n"
   ]
  },
  {
   "cell_type": "code",
   "execution_count": null,
   "metadata": {
    "collapsed": true
   },
   "outputs": [],
   "source": [
    "1- Read Data File\n",
    "2- Identify Dataset \n",
    "3- Identify Problem\n",
    "4- Acquire Data\n",
    "5- Parse Data\n",
    "6- Anaylze Data\n",
    "7- Refine Data\n",
    "8- Present Data (blog)\n"
   ]
  }
 ],
 "metadata": {
  "kernelspec": {
   "display_name": "Python 2",
   "language": "python",
   "name": "python2"
  },
  "language_info": {
   "codemirror_mode": {
    "name": "ipython",
    "version": 2
   },
   "file_extension": ".py",
   "mimetype": "text/x-python",
   "name": "python",
   "nbconvert_exporter": "python",
   "pygments_lexer": "ipython2",
   "version": "2.7.13"
  }
 },
 "nbformat": 4,
 "nbformat_minor": 2
}
